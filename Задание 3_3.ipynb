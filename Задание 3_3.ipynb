{
 "cells": [
  {
   "cell_type": "code",
   "execution_count": 1,
   "metadata": {},
   "outputs": [
    {
     "name": "stdout",
     "output_type": "stream",
     "text": [
      "['А', 'ш', 'о', 'т']\n",
      "['А', 'ш', 'о', 'т']\n",
      "['А', 'о', 'т', 'ш']\n",
      "['А', 'ш', 'о', 'т', 'А', 'о', 'т', 'ш']\n",
      "['т', 'А', 'о', 'т', 'ш']\n"
     ]
    }
   ],
   "source": [
    "my_list = list ('Ашот')\n",
    "print(my_list)\n",
    "\n",
    "my_list2 = my_list.copy()\n",
    "print(my_list2)\n",
    "\n",
    "my_list2.sort()\n",
    "print(my_list2)\n",
    "\n",
    "my_list3 = my_list + my_list2\n",
    "print(my_list3)\n",
    "\n",
    "for i in range(0, 3, 1):\n",
    "    my_list3.pop(i-i) \n",
    "print(my_list3)"
   ]
  },
  {
   "cell_type": "code",
   "execution_count": null,
   "metadata": {},
   "outputs": [],
   "source": []
  }
 ],
 "metadata": {
  "kernelspec": {
   "display_name": "Python 3",
   "language": "python",
   "name": "python3"
  },
  "language_info": {
   "codemirror_mode": {
    "name": "ipython",
    "version": 3
   },
   "file_extension": ".py",
   "mimetype": "text/x-python",
   "name": "python",
   "nbconvert_exporter": "python",
   "pygments_lexer": "ipython3",
   "version": "3.7.6"
  }
 },
 "nbformat": 4,
 "nbformat_minor": 2
}
